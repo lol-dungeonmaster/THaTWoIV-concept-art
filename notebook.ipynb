{
 "cells": [
  {
   "cell_type": "markdown",
   "id": "c4c9dc55",
   "metadata": {},
   "source": [
    "# Where to begin..."
   ]
  },
  {
   "cell_type": "code",
   "execution_count": null,
   "id": "367751c7",
   "metadata": {},
   "outputs": [],
   "source": [
    "# Setup the environment\n",
    "\n",
    "%pip install -qU google-genai==1.29.0 google-api-core lmnr[all] Pillow\n",
    "\n",
    "import os, IPython\n",
    "from google import genai\n",
    "from google.api_core import retry, exceptions\n",
    "from google.genai import types\n",
    "from io import BytesIO\n",
    "from lmnr import Laminar\n",
    "from PIL import Image\n",
    "\n",
    "class UserSecretsClient:\n",
    "    @classmethod\n",
    "    def get_secret(cls, id: str):\n",
    "        try:\n",
    "            return os.environ[id]\n",
    "        except KeyError as e:\n",
    "            print(f\"KeyError: authentication token for {id} is undefined\")\n",
    "\n",
    "GOOGLE_API_KEY = UserSecretsClient().get_secret(\"GOOGLE_API_KEY\")\n",
    "\n",
    "try:\n",
    "    Laminar.initialize(project_api_key=UserSecretsClient().get_secret(\"LMNR_PROJECT_API_KEY\"))\n",
    "except:\n",
    "    print(\"Skipping Laminar.initialize()\")\n",
    "\n",
    "client = genai.Client(api_key=GOOGLE_API_KEY)\n",
    "\n",
    "is_retriable = lambda e: (isinstance(e, genai.errors.APIError) and e.code in {429, 503, 500})\n",
    "genai.models.Models.generate_content = retry.Retry(\n",
    "    predicate=is_retriable)(genai.models.Models.generate_content)"
   ]
  },
  {
   "cell_type": "code",
   "execution_count": null,
   "id": "2ec63cc3",
   "metadata": {},
   "outputs": [],
   "source": [
    "src_1 = Image.open('tmp/src_1.jpg')"
   ]
  },
  {
   "cell_type": "code",
   "execution_count": null,
   "id": "8950b3ec",
   "metadata": {},
   "outputs": [],
   "source": [
    "IPython.display.Image('tmp/src_1.jpg')"
   ]
  },
  {
   "cell_type": "code",
   "execution_count": null,
   "id": "00202788",
   "metadata": {},
   "outputs": [],
   "source": []
  }
 ],
 "metadata": {
  "kernelspec": {
   "display_name": ".venv",
   "language": "python",
   "name": "python3"
  },
  "language_info": {
   "codemirror_mode": {
    "name": "ipython",
    "version": 3
   },
   "file_extension": ".py",
   "mimetype": "text/x-python",
   "name": "python",
   "nbconvert_exporter": "python",
   "pygments_lexer": "ipython3",
   "version": "3.12.3"
  }
 },
 "nbformat": 4,
 "nbformat_minor": 5
}
