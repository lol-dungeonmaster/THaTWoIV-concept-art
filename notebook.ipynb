{
 "cells": [
  {
   "cell_type": "markdown",
   "id": "c4c9dc55",
   "metadata": {},
   "source": [
    "# Where to begin..."
   ]
  },
  {
   "cell_type": "code",
   "execution_count": null,
   "id": "367751c7",
   "metadata": {},
   "outputs": [],
   "source": [
    "# Setup the environment\n",
    "\n",
    "%pip install -qU google-genai==1.29.0 google-api-core lmnr[all] Pillow\n",
    "\n",
    "import os, IPython\n",
    "from google import genai\n",
    "from google.api_core import retry, exceptions\n",
    "from google.genai import types\n",
    "from io import BytesIO\n",
    "from lmnr import Laminar\n",
    "from PIL import Image\n",
    "\n",
    "class UserSecretsClient:\n",
    "    @classmethod\n",
    "    def get_secret(cls, id: str):\n",
    "        try:\n",
    "            return os.environ[id]\n",
    "        except KeyError as e:\n",
    "            print(f\"KeyError: authentication token for {id} is undefined\")\n",
    "\n",
    "GOOGLE_API_KEY = UserSecretsClient().get_secret(\"GOOGLE_API_KEY\")\n",
    "\n",
    "try:\n",
    "    Laminar.initialize(project_api_key=UserSecretsClient().get_secret(\"LMNR_PROJECT_API_KEY\"))\n",
    "except:\n",
    "    print(\"Skipping Laminar.initialize()\")\n",
    "\n",
    "client = genai.Client(api_key=GOOGLE_API_KEY)\n",
    "\n",
    "is_retriable = lambda e: (isinstance(e, genai.errors.APIError) and e.code in {429, 503, 500})\n",
    "genai.models.Models.generate_images = retry.Retry(\n",
    "    predicate=is_retriable)(genai.models.Models.generate_images)\n",
    "genai.models.Models.generate_videos = retry.Retry(\n",
    "    predicate=is_retriable)(genai.models.Models.generate_videos)"
   ]
  },
  {
   "cell_type": "markdown",
   "id": "34ec8374",
   "metadata": {},
   "source": [
    "# The bee's are particularly busy this time of year...\n",
    "\n",
    "The little critters are often too busy to notice the comings and goings of their keepers. Especially when completed at the right time -- before 2nd Breakfast. Well then it's hardly a chore what with them off tending to the blooming mouse-leaf."
   ]
  },
  {
   "cell_type": "code",
   "execution_count": null,
   "id": "4930c322",
   "metadata": {},
   "outputs": [],
   "source": [
    "prompt = \"\"\"A 4K studio photo of a forest clearing next to a great river in mid-summer. \n",
    "Use a wide-angle lens, golden hour lighting, and 16:9 aspect. \n",
    "The river is a vast tributary of large width. \n",
    "The forest is a mixture of fir and pine. \n",
    "The undergrowth is thick with flowering wild berries and old growth. \n",
    "Next to the river's edge patches of yellow Iris and blue Myosotis grow along with reeds. \n",
    "A rustic beehive can be seen in the forest clearing near the water's edge. \n",
    "It's bee's are eagerly feeding on the nearby wildflowers. \n",
    "On the other side a mountain range rises in the distance.\n",
    "Face the camera across the river width.\n",
    "With the sun on the right side.\"\"\"\n",
    "\n",
    "standard = \"imagen-4.0-generate-001\"\n",
    "ultra = \"imagen-4.0-ultra-generate-001\""
   ]
  },
  {
   "cell_type": "code",
   "execution_count": null,
   "id": "3a7bd7e6",
   "metadata": {},
   "outputs": [],
   "source": [
    "result = client.models.generate_images(\n",
    "    model=standard,\n",
    "    prompt=prompt,\n",
    "    config=dict(aspect_ratio=\"16:9\", image_size=\"2k\")\n",
    ")\n",
    "\n",
    "for generated_image in result.generated_images:\n",
    "  (image := generated_image.image).save(f\"results/scene_{result.generated_images.index(generated_image)}.jpg\")\n",
    "  (image := generated_image.image).show()"
   ]
  },
  {
   "cell_type": "markdown",
   "id": "f5be973c",
   "metadata": {},
   "source": [
    "# At this rate the harvest was shaping up to be the bees knees...\n",
    "\n",
    "The men of Upper Vales would even brave the river crossing. All for one of their best delicacies -- honey ale. Why even the nearby Greenwood elves have been known to drop by on their way to Dimrill Dale.\n",
    "\n",
    "_-- Somewhere in the Vale, where the bee's are blissfully unaware of the adventure this day will bring._"
   ]
  },
  {
   "cell_type": "markdown",
   "id": "3028fa37",
   "metadata": {},
   "source": [
    "#### Imagen-4.0 standard output"
   ]
  },
  {
   "cell_type": "code",
   "execution_count": null,
   "id": "7ba7417f",
   "metadata": {},
   "outputs": [],
   "source": [
    "Image.open(\"standard/scene_1.jpg\")"
   ]
  },
  {
   "cell_type": "code",
   "execution_count": null,
   "id": "1f2b03b4",
   "metadata": {},
   "outputs": [],
   "source": [
    "Image.open(\"standard/scene_2.jpg\")"
   ]
  },
  {
   "cell_type": "code",
   "execution_count": null,
   "id": "72ddf603",
   "metadata": {},
   "outputs": [],
   "source": [
    "Image.open(\"standard/scene_3.jpg\")"
   ]
  },
  {
   "cell_type": "code",
   "execution_count": null,
   "id": "da5c83a2",
   "metadata": {},
   "outputs": [],
   "source": [
    "Image.open(\"standard/scene_4.jpg\")"
   ]
  },
  {
   "cell_type": "code",
   "execution_count": null,
   "id": "8b6cd97d",
   "metadata": {},
   "outputs": [],
   "source": [
    "Image.open(\"standard/scene_5.jpg\")"
   ]
  },
  {
   "cell_type": "code",
   "execution_count": null,
   "id": "c4bf1a49",
   "metadata": {},
   "outputs": [],
   "source": [
    "Image.open(\"standard/scene_6.jpg\")"
   ]
  },
  {
   "cell_type": "markdown",
   "id": "6645ee4b",
   "metadata": {},
   "source": [
    "#### Imagen-4.0 ultra output"
   ]
  },
  {
   "cell_type": "code",
   "execution_count": null,
   "id": "4e2a98d9",
   "metadata": {},
   "outputs": [],
   "source": [
    "Image.open(\"ultra/scene_1.jpg\")"
   ]
  },
  {
   "cell_type": "code",
   "execution_count": null,
   "id": "8ef0db4e",
   "metadata": {},
   "outputs": [],
   "source": [
    "Image.open(\"ultra/scene_2.jpg\")"
   ]
  },
  {
   "cell_type": "code",
   "execution_count": null,
   "id": "93b6ef23",
   "metadata": {},
   "outputs": [],
   "source": [
    "Image.open(\"ultra/scene_3.jpg\")"
   ]
  },
  {
   "cell_type": "code",
   "execution_count": null,
   "id": "d29ea86c",
   "metadata": {},
   "outputs": [],
   "source": [
    "Image.open(\"ultra/scene_4.jpg\")"
   ]
  },
  {
   "cell_type": "code",
   "execution_count": null,
   "id": "9b7863c4",
   "metadata": {},
   "outputs": [],
   "source": [
    "Image.open(\"ultra/scene_5.jpg\")"
   ]
  },
  {
   "cell_type": "code",
   "execution_count": null,
   "id": "3aaac99c",
   "metadata": {},
   "outputs": [],
   "source": [
    "Image.open(\"ultra/scene_6.jpg\")"
   ]
  }
 ],
 "metadata": {
  "kernelspec": {
   "display_name": ".venv",
   "language": "python",
   "name": "python3"
  },
  "language_info": {
   "codemirror_mode": {
    "name": "ipython",
    "version": 3
   },
   "file_extension": ".py",
   "mimetype": "text/x-python",
   "name": "python",
   "nbconvert_exporter": "python",
   "pygments_lexer": "ipython3",
   "version": "3.12.3"
  }
 },
 "nbformat": 4,
 "nbformat_minor": 5
}
