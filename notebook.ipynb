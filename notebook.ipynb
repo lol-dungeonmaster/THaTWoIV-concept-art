{
 "cells": [
  {
   "cell_type": "markdown",
   "id": "c4c9dc55",
   "metadata": {},
   "source": [
    "# Where to begin..."
   ]
  },
  {
   "cell_type": "code",
   "execution_count": 1,
   "id": "367751c7",
   "metadata": {},
   "outputs": [
    {
     "name": "stdout",
     "output_type": "stream",
     "text": [
      "Note: you may need to restart the kernel to use updated packages.\n",
      "KeyError: authentication token for LMNR_PROJECT_API_KEY is undefined\n",
      "Skipping Laminar.initialize()\n"
     ]
    }
   ],
   "source": [
    "# Setup the environment\n",
    "\n",
    "%pip install -qU google-genai==1.29.0 google-api-core lmnr[all] Pillow\n",
    "\n",
    "import os, io, IPython, time\n",
    "from google import genai\n",
    "from google.api_core import retry, exceptions\n",
    "from google.genai import types\n",
    "from io import BytesIO\n",
    "from lmnr import Laminar\n",
    "from PIL import Image\n",
    "\n",
    "class UserSecretsClient:\n",
    "    @classmethod\n",
    "    def get_secret(cls, id: str):\n",
    "        try:\n",
    "            return os.environ[id]\n",
    "        except KeyError as e:\n",
    "            print(f\"KeyError: authentication token for {id} is undefined\")\n",
    "\n",
    "GOOGLE_API_KEY = UserSecretsClient().get_secret(\"GOOGLE_API_KEY\")\n",
    "\n",
    "try:\n",
    "    Laminar.initialize(project_api_key=UserSecretsClient().get_secret(\"LMNR_PROJECT_API_KEY\"))\n",
    "except:\n",
    "    print(\"Skipping Laminar.initialize()\")\n",
    "\n",
    "client = genai.Client(api_key=GOOGLE_API_KEY)\n",
    "\n",
    "is_retriable = lambda e: (isinstance(e, genai.errors.APIError) and e.code in {429, 503, 500})\n",
    "genai.models.Models.generate_images = retry.Retry(\n",
    "    predicate=is_retriable)(genai.models.Models.generate_images)\n",
    "genai.models.Models.generate_videos = retry.Retry(\n",
    "    predicate=is_retriable)(genai.models.Models.generate_videos)\n",
    "genai.models.Models.generate_content = retry.Retry(\n",
    "    predicate=is_retriable)(genai.models.Models.generate_content)"
   ]
  },
  {
   "cell_type": "markdown",
   "id": "34ec8374",
   "metadata": {},
   "source": [
    "# The bee's are particularly busy this time of year...\n",
    "\n",
    "The little critters are often too busy to notice the comings and goings of their keepers. Especially when completed at the right time -- before 2nd Breakfast. Well then it's hardly a chore what with them off tending to the blooming mouse-leaf."
   ]
  },
  {
   "cell_type": "code",
   "execution_count": null,
   "id": "4930c322",
   "metadata": {},
   "outputs": [],
   "source": [
    "# Generate base images\n",
    "\n",
    "prompt = \"\"\"A 4K studio photo of a forest clearing next to a great river in mid-summer. \n",
    "Use a wide-angle lens, golden hour lighting, and 16:9 aspect. \n",
    "The river is a vast tributary of large width. \n",
    "The forest is a mixture of fir and pine. \n",
    "The undergrowth is thick with flowering wild berries and old growth. \n",
    "Next to the river's edge patches of yellow Iris and blue Myosotis grow along with reeds. \n",
    "A rustic beehive can be seen in the forest clearing near the water's edge. \n",
    "It's bee's are eagerly feeding on the nearby wildflowers. \n",
    "On the other side a mountain range rises in the distance.\n",
    "Face the camera across the river width.\n",
    "With the sun on the right side.\"\"\"\n",
    "\n",
    "standard = \"imagen-4.0-generate-001\"\n",
    "ultra = \"imagen-4.0-ultra-generate-001\"\n",
    "\n",
    "result = client.models.generate_images(\n",
    "    model=standard,\n",
    "    prompt=prompt,\n",
    "    config=dict(aspect_ratio=\"16:9\", image_size=\"2k\")\n",
    ")\n",
    "\n",
    "for n, generated_image in enumerate(result.generated_images):\n",
    "  (image := generated_image.image).save(f\"docs/results/scene_{n}.jpg\")\n",
    "  (image := generated_image.image).show()"
   ]
  },
  {
   "cell_type": "markdown",
   "id": "f5be973c",
   "metadata": {},
   "source": [
    "# At this rate the harvest was shaping up to be the bees knees...\n",
    "\n",
    "The men of Upper Vales would often travel a day's journey, crossing the Great River by way of the North Bridge. All for one of their best delicacies -- Honey Ale. Rumor is the expert Woodsmen are unwilling to use the sturdier Dwarvish Bridge to the South. Something about their crafts being unwelcome in those parts. Why even the nearby Greenwood Elves have been known to drop by on their way to Dimrill Dale. Though the Elves have never been willing to share what they use the honey for. They always look amused and say quite plainly they'll eat it -- several barrel's that is.\n",
    "\n",
    "_-- Somewhere in the Vale, where the bee's are blissfully unaware of the adventure this day will bring._"
   ]
  },
  {
   "cell_type": "code",
   "execution_count": 27,
   "id": "e1f1c20a",
   "metadata": {},
   "outputs": [],
   "source": [
    "# Generate from base images\n",
    "\n",
    "def generate_video(image):\n",
    "    prompt = \"\"\"This 4K studio photo depicts a river and forest during morning golden hour.\n",
    "    Use a wide-angle lens and 16:9 aspect.\n",
    "    The forest is a mixture of fir and pine. The undergrowth is thick with flowering wild berries and old growth.\n",
    "    In the forest birds are calling.\n",
    "    You are walking on the river bank towards the beehive.\n",
    "    The bee's are feeding on nearby wildflowers.\n",
    "    Start further away from the beehive.\n",
    "    The river current is rushing past you.\n",
    "    Preserve existing lighting and studio quality.\"\"\"\n",
    "\n",
    "    # Converting the image to bytes\n",
    "    image_bytes_io = io.BytesIO()\n",
    "    image.save(image_bytes_io, format=image.format)\n",
    "    image_bytes = image_bytes_io.getvalue()\n",
    "\n",
    "    operation = client.models.generate_videos(\n",
    "        model=\"veo-3.0-generate-001\",\n",
    "        prompt=prompt,\n",
    "        image=types.Image(image_bytes=image_bytes, mime_type=image.format),\n",
    "    )\n",
    "\n",
    "    while not operation.done:\n",
    "        print(\"Waiting for video generation to complete...\")\n",
    "        time.sleep(10)\n",
    "        operation = client.operations.get(operation)\n",
    "\n",
    "    return operation.result.generated_videos[0]"
   ]
  },
  {
   "cell_type": "markdown",
   "id": "3028fa37",
   "metadata": {},
   "source": [
    "#### Imagen-4.0 standard output"
   ]
  },
  {
   "cell_type": "code",
   "execution_count": 31,
   "id": "7ba7417f",
   "metadata": {},
   "outputs": [],
   "source": [
    "south_1 = Image.open(\"docs/standard/scene_1.jpg\")"
   ]
  },
  {
   "cell_type": "markdown",
   "id": "2bf5be50",
   "metadata": {},
   "source": [
    "_Facing south towards Middle Vales. Misty Mountains is hidden by tree-line._\n",
    "\n",
    "[![](docs/standard/scene_1.jpg)](docs/results/south_1.mp4)"
   ]
  },
  {
   "cell_type": "code",
   "execution_count": 32,
   "id": "1f2b03b4",
   "metadata": {},
   "outputs": [],
   "source": [
    "north_1 = Image.open(\"docs/standard/scene_2.jpg\")"
   ]
  },
  {
   "cell_type": "markdown",
   "id": "2d772bb7",
   "metadata": {},
   "source": [
    "_Facing north near the footsteps of Misty Mountains._\n",
    "\n",
    "![north_1](docs/standard/scene_2.jpg)"
   ]
  },
  {
   "cell_type": "code",
   "execution_count": null,
   "id": "72ddf603",
   "metadata": {},
   "outputs": [],
   "source": [
    "Image.open(\"docs/standard/scene_3.jpg\")"
   ]
  },
  {
   "cell_type": "code",
   "execution_count": null,
   "id": "da5c83a2",
   "metadata": {},
   "outputs": [],
   "source": [
    "Image.open(\"docs/standard/scene_4.jpg\")"
   ]
  },
  {
   "cell_type": "code",
   "execution_count": null,
   "id": "8b6cd97d",
   "metadata": {},
   "outputs": [],
   "source": [
    "Image.open(\"docs/standard/scene_5.jpg\")"
   ]
  },
  {
   "cell_type": "code",
   "execution_count": null,
   "id": "c4bf1a49",
   "metadata": {},
   "outputs": [],
   "source": [
    "Image.open(\"docs/standard/scene_6.jpg\")"
   ]
  },
  {
   "cell_type": "markdown",
   "id": "6645ee4b",
   "metadata": {},
   "source": [
    "#### Imagen-4.0 ultra output"
   ]
  },
  {
   "cell_type": "code",
   "execution_count": 26,
   "id": "4e2a98d9",
   "metadata": {},
   "outputs": [
    {
     "name": "stdout",
     "output_type": "stream",
     "text": [
      "Waiting for video generation to complete...\n",
      "Waiting for video generation to complete...\n",
      "Waiting for video generation to complete...\n",
      "Waiting for video generation to complete...\n",
      "Waiting for video generation to complete...\n"
     ]
    }
   ],
   "source": [
    "east_1 = Image.open(\"docs/ultra/scene_1.jpg\")\n",
    "generated_video = generate_video(east_1)\n",
    "client.files.download(file=generated_video.video)\n",
    "generated_video.video.save(\"docs/results/east_1.mp4\")"
   ]
  },
  {
   "cell_type": "markdown",
   "id": "07ccbaf3",
   "metadata": {},
   "source": [
    "_Facing east towards confluence with the Great River. Foothills of Greenwood Mountains in the distance. Lindórinand on the south shore._\n",
    "\n",
    "[![](docs/ultra/scene_1.jpg)](docs/results/east_1.mp4)\n",
    "\n",
    "[![](docs/ultra/scene_1.jpg)](docs/results/east_2.mp4)\n",
    "\n",
    "[![](docs/ultra/scene_1.jpg)](docs/results/east_3.mp4)"
   ]
  },
  {
   "cell_type": "code",
   "execution_count": null,
   "id": "8ef0db4e",
   "metadata": {},
   "outputs": [],
   "source": [
    "Image.open(\"docs/ultra/scene_2.jpg\")"
   ]
  },
  {
   "cell_type": "code",
   "execution_count": null,
   "id": "93b6ef23",
   "metadata": {},
   "outputs": [],
   "source": [
    "Image.open(\"docs/ultra/scene_3.jpg\")"
   ]
  },
  {
   "cell_type": "code",
   "execution_count": null,
   "id": "d29ea86c",
   "metadata": {},
   "outputs": [],
   "source": [
    "Image.open(\"docs/ultra/scene_4.jpg\")"
   ]
  },
  {
   "cell_type": "code",
   "execution_count": null,
   "id": "9b7863c4",
   "metadata": {},
   "outputs": [],
   "source": [
    "Image.open(\"docs/ultra/scene_5.jpg\")"
   ]
  },
  {
   "cell_type": "code",
   "execution_count": null,
   "id": "3aaac99c",
   "metadata": {},
   "outputs": [],
   "source": [
    "Image.open(\"docs/ultra/scene_6.jpg\")"
   ]
  },
  {
   "cell_type": "code",
   "execution_count": null,
   "id": "23cd3f9b",
   "metadata": {},
   "outputs": [],
   "source": [
    "src_1 = client.files.upload(file=\"docs/ultra/scene_1.jpg\")"
   ]
  },
  {
   "cell_type": "code",
   "execution_count": null,
   "id": "40ec688b",
   "metadata": {},
   "outputs": [],
   "source": [
    "result = client.models.generate_content(\n",
    "    model=\"gemini-2.5-flash-image-preview\",\n",
    "    contents=[prompt, src_1]\n",
    ")\n",
    "\n",
    "for part in result.candidates[0].content.parts:\n",
    "    if part.text:\n",
    "        print(part.text)\n",
    "    elif part.inline_data is not None:\n",
    "        image = Image.open(BytesIO(part.inline_data.data))\n",
    "        image.show()\n",
    "        image.save(\"docs/results/edit_1.png\")"
   ]
  }
 ],
 "metadata": {
  "kernelspec": {
   "display_name": ".venv",
   "language": "python",
   "name": "python3"
  },
  "language_info": {
   "codemirror_mode": {
    "name": "ipython",
    "version": 3
   },
   "file_extension": ".py",
   "mimetype": "text/x-python",
   "name": "python",
   "nbconvert_exporter": "python",
   "pygments_lexer": "ipython3",
   "version": "3.12.3"
  }
 },
 "nbformat": 4,
 "nbformat_minor": 5
}
